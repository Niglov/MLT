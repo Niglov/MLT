{
 "cells": [
  {
   "cell_type": "markdown",
   "metadata": {},
   "source": [
    "# Statistical Learning Theory. Exam project"
   ]
  },
  {
   "cell_type": "markdown",
   "metadata": {},
   "source": [
    "Here is the description of what you need to do at your final project\n",
    "\n",
    "<b>Deadline:</b> 27.12.2018, 9 a.m. (there would be no soft deadline)\n",
    "\n",
    "<b>How to hang in?</b> You need to put your Jupyter Notebook and dataset to GitHub repo and send link in Telegram to <b>@CroCode</b>\n",
    "\n",
    "<b>NB!</b> Please, write comments at your code: I need to somehow understand what are you doing"
   ]
  },
  {
   "cell_type": "markdown",
   "metadata": {},
   "source": [
    "## Choosing dataset"
   ]
  },
  {
   "cell_type": "markdown",
   "metadata": {},
   "source": [
    "At first you need to choose the dataset for analysis. I want you to find the problem that would be interesting for you (maybe something related to your area of work etc.)\n",
    "\n",
    "I suggest you to use 2 most popular sources of data:\n",
    "\n",
    "1) UCI machine learning repository https://archive.ics.uci.edu/ml/datasets.html\n",
    "\n",
    "2) Kaggle https://www.kaggle.com/datasets\n",
    "\n",
    "And to make this task more interesting, I ask you not to choose the same datasets. Please, fill in the Google form with your name and chosen dataset: https://docs.google.com/spreadsheets/d/1Kv7TY5mTgxWASdcmmHAE8H1i7pSLHXtVsllio7RQFPU/edit?usp=sharing"
   ]
  },
  {
   "cell_type": "markdown",
   "metadata": {},
   "source": [
    "## Preprocessing data"
   ]
  },
  {
   "cell_type": "markdown",
   "metadata": {},
   "source": [
    "You need to show that you understand correctly how the data should be preprocessed, i.e. what to do with categorical data, missing values etc. I ask you to explain why you did this very preprocessing (take into account that preprocessing often depends on model type)\n",
    "\n",
    "<b>Total:</b> <i>2 points</i>"
   ]
  },
  {
   "cell_type": "code",
   "execution_count": 2,
   "metadata": {
    "collapsed": true,
    "scrolled": true
   },
   "outputs": [],
   "source": [
    "import pandas as pd\n",
    "import seaborn as sns\n",
    "import matplotlib.pyplot as plt\n",
    "import numpy as np\n",
    "import string\n",
    "import multiprocessing\n",
    "from collections import Counter\n",
    "import re\n",
    "import nltk\n",
    "from nltk import word_tokenize\n",
    "from nltk.stem import WordNetLemmatizer\n",
    "from nltk.corpus import stopwords\n",
    "import operator\n",
    "from sklearn.metrics import f1_score\n",
    "from sklearn.metrics import confusion_matrix\n",
    "import itertools"
   ]
  },
  {
   "cell_type": "code",
   "execution_count": 3,
   "metadata": {
    "collapsed": true
   },
   "outputs": [],
   "source": [
    "news = pd.read_csv(\"uci-news-aggregator.csv\")"
   ]
  },
  {
   "cell_type": "code",
   "execution_count": 4,
   "metadata": {
    "collapsed": true
   },
   "outputs": [],
   "source": [
    "# Set index\n",
    "news.set_index('ID', inplace=True)\n",
    "\n",
    "# Add full names to categories\n",
    "news.replace({'CATEGORY':{'b':'Buisness', 't':'Science', 'e':'Entertainment', 'm':'Health'}}, inplace=True)"
   ]
  },
  {
   "cell_type": "markdown",
   "metadata": {},
   "source": [
    "<b>Frequency of each news category</b>"
   ]
  },
  {
   "cell_type": "code",
   "execution_count": 5,
   "metadata": {},
   "outputs": [
    {
     "data": {
      "image/png": "[encoded data removed]",
      "text/plain": [
       "<matplotlib.figure.Figure at 0x223478f7a58>"
      ]
     },
     "metadata": {},
     "output_type": "display_data"
    }
   ],
   "source": [
    "ax = sns.countplot(news['CATEGORY'])\n",
    "ax.set_title(\"Category Counts\")\n",
    "ax.set_xlabel(\"Category\")\n",
    "plt.show()"
   ]
  },
  {
   "cell_type": "markdown",
   "metadata": {},
   "source": [
    "As we can see we have disbalance beetween category 'Health' and others. We need to account for that later."
   ]
  },
  {
   "cell_type": "markdown",
   "metadata": {},
   "source": [
    "### Text Preprocessing"
   ]
  },
  {
   "cell_type": "code",
   "execution_count": 6,
   "metadata": {},
   "outputs": [
    {
     "data": {
      "text/plain": [
       "ID\n",
       "1     Fed official says weak data caused by weather,...\n",
       "2     Fed's Charles Plosser sees high bar for change...\n",
       "3     US open: Stocks fall after Fed official hints ...\n",
       "4     Fed risks falling 'behind the curve', Charles ...\n",
       "5     Fed's Plosser: Nasty Weather Has Curbed Job Gr...\n",
       "6     Plosser: Fed May Have to Accelerate Tapering Pace\n",
       "7             Fed's Plosser: Taper pace may be too slow\n",
       "8     Fed's Plosser expects US unemployment to fall ...\n",
       "9     US jobs growth last month hit by weather:Fed P...\n",
       "10    ECB unlikely to end sterilisation of SMP purch...\n",
       "Name: TITLE, dtype: object"
      ]
     },
     "execution_count": 6,
     "metadata": {},
     "output_type": "execute_result"
    }
   ],
   "source": [
    "news['TITLE'].head(10)"
   ]
  },
  {
   "cell_type": "markdown",
   "metadata": {},
   "source": [
    "We will be doing some basic text preprocessing techniques:"
   ]
  },
  {
   "cell_type": "markdown",
   "metadata": {},
   "source": [
    "#### Lowercase"
   ]
  },
  {
   "cell_type": "code",
   "execution_count": 7,
   "metadata": {
    "collapsed": true
   },
   "outputs": [],
   "source": [
    "news['TITLE'] = [t.lower() for t in news['TITLE']]"
   ]
  },
  {
   "cell_type": "code",
   "execution_count": 8,
   "metadata": {
    "collapsed": true
   },
   "outputs": [],
   "source": [
    "news['TITLE']= news['TITLE'].apply(str.lower)"
   ]
  },
  {
   "cell_type": "markdown",
   "metadata": {},
   "source": [
    "#### Replace Contractions"
   ]
  },
  {
   "cell_type": "code",
   "execution_count": 9,
   "metadata": {
    "collapsed": true
   },
   "outputs": [],
   "source": [
    "contraction_patterns = [ (r'won\\'t', 'will not'), (r'can\\'t', 'cannot'), (r'i\\'m', 'i am'), (r'ain\\'t', 'is not'), (r'(\\w+)\\'ll', '\\g<1> will'), (r'(\\w+)n\\'t', '\\g<1> not'),\n",
    "                         (r'(\\w+)\\'ve', '\\g<1> have'), (r'(\\w+)\\'s', '\\g<1> is'), (r'(\\w+)\\'re', '\\g<1> are'), (r'(\\w+)\\'d', '\\g<1> would'), (r'&', 'and'), (r'dammit', 'damn it'), (r'dont', 'do not'), (r'wont', 'will not') ]"
   ]
  },
  {
   "cell_type": "code",
   "execution_count": 10,
   "metadata": {
    "collapsed": true
   },
   "outputs": [],
   "source": [
    "def replaceContraction(text):\n",
    "    patterns = [(re.compile(regex), repl) for (regex, repl) in contraction_patterns]\n",
    "    for (pattern, repl) in patterns:\n",
    "        (text, count) = re.subn(pattern, repl, text)\n",
    "    return text"
   ]
  },
  {
   "cell_type": "code",
   "execution_count": 11,
   "metadata": {
    "collapsed": true
   },
   "outputs": [],
   "source": [
    "news['TITLE'] = news['TITLE'].apply(replaceContraction)"
   ]
  },
  {
   "cell_type": "code",
   "execution_count": 12,
   "metadata": {},
   "outputs": [
    {
     "data": {
      "text/plain": [
       "ID\n",
       "1     fed official says weak data caused by weather,...\n",
       "2     fed is charles plosser sees high bar for chang...\n",
       "3     us open: stocks fall after fed official hints ...\n",
       "4     fed risks falling 'behind the curve', charles ...\n",
       "5     fed is plosser: nasty weather has curbed job g...\n",
       "6     plosser: fed may have to accelerate tapering pace\n",
       "7            fed is plosser: taper pace may be too slow\n",
       "8     fed is plosser expects us unemployment to fall...\n",
       "9     us jobs growth last month hit by weather:fed p...\n",
       "10    ecb unlikely to end sterilisation of smp purch...\n",
       "Name: TITLE, dtype: object"
      ]
     },
     "execution_count": 12,
     "metadata": {},
     "output_type": "execute_result"
    }
   ],
   "source": [
    "news['TITLE'].head(10)"
   ]
  },
  {
   "cell_type": "markdown",
   "metadata": {},
   "source": [
    "#### Remove punctuation"
   ]
  },
  {
   "cell_type": "code",
   "execution_count": 13,
   "metadata": {
    "collapsed": true
   },
   "outputs": [],
   "source": [
    "translator = str.maketrans('', '', string.punctuation)\n",
    "news['TITLE'] = [t.translate(translator) for t in news['TITLE']]"
   ]
  },
  {
   "cell_type": "code",
   "execution_count": 14,
   "metadata": {},
   "outputs": [
    {
     "data": {
      "text/plain": [
       "ID\n",
       "1     fed official says weak data caused by weather ...\n",
       "2     fed is charles plosser sees high bar for chang...\n",
       "3     us open stocks fall after fed official hints a...\n",
       "4     fed risks falling behind the curve charles plo...\n",
       "5     fed is plosser nasty weather has curbed job gr...\n",
       "6      plosser fed may have to accelerate tapering pace\n",
       "7             fed is plosser taper pace may be too slow\n",
       "8     fed is plosser expects us unemployment to fall...\n",
       "9     us jobs growth last month hit by weatherfed pr...\n",
       "10    ecb unlikely to end sterilisation of smp purch...\n",
       "Name: TITLE, dtype: object"
      ]
     },
     "execution_count": 14,
     "metadata": {},
     "output_type": "execute_result"
    }
   ],
   "source": [
    "news['TITLE'].head(10)"
   ]
  },
  {
   "cell_type": "markdown",
   "metadata": {},
   "source": [
    "#### Remove Stopwords"
   ]
  },
  {
   "cell_type": "code",
   "execution_count": 15,
   "metadata": {
    "collapsed": true
   },
   "outputs": [],
   "source": [
    "from nltk.corpus import stopwords\n",
    "stoplist = stopwords.words('english')"
   ]
  },
  {
   "cell_type": "code",
   "execution_count": 16,
   "metadata": {
    "collapsed": true
   },
   "outputs": [],
   "source": [
    "def removeStopwords(text):\n",
    "    noStopwords = []\n",
    "    [noStopwords.append(w) for w in nltk.word_tokenize(text) if w not in stoplist]\n",
    "    text = \" \".join(noStopwords)\n",
    "    return text"
   ]
  },
  {
   "cell_type": "code",
   "execution_count": 17,
   "metadata": {
    "collapsed": true
   },
   "outputs": [],
   "source": [
    "news['TITLE'] = news['TITLE'].apply(removeStopwords)"
   ]
  },
  {
   "cell_type": "code",
   "execution_count": 18,
   "metadata": {},
   "outputs": [
    {
     "data": {
      "text/plain": [
       "ID\n",
       "1     fed official says weak data caused weather slo...\n",
       "2     fed charles plosser sees high bar change pace ...\n",
       "3     us open stocks fall fed official hints acceler...\n",
       "4     fed risks falling behind curve charles plosser...\n",
       "5           fed plosser nasty weather curbed job growth\n",
       "6              plosser fed may accelerate tapering pace\n",
       "7                       fed plosser taper pace may slow\n",
       "8     fed plosser expects us unemployment fall 62 en...\n",
       "9     us jobs growth last month hit weatherfed presi...\n",
       "10    ecb unlikely end sterilisation smp purchases t...\n",
       "Name: TITLE, dtype: object"
      ]
     },
     "execution_count": 18,
     "metadata": {},
     "output_type": "execute_result"
    }
   ],
   "source": [
    "news['TITLE'].head(10)"
   ]
  },
  {
   "cell_type": "markdown",
   "metadata": {},
   "source": [
    "#### Lemmatizing"
   ]
  },
  {
   "cell_type": "code",
   "execution_count": 19,
   "metadata": {
    "collapsed": true
   },
   "outputs": [],
   "source": [
    "from nltk.stem import WordNetLemmatizer\n",
    "lemmatizer = WordNetLemmatizer()"
   ]
  },
  {
   "cell_type": "code",
   "execution_count": 20,
   "metadata": {
    "collapsed": true
   },
   "outputs": [],
   "source": [
    "def Lemmatizing(text):\n",
    "    lemmatized = []\n",
    "    [lemmatized.append(lemmatizer.lemmatize(w)) for w in nltk.word_tokenize(text)]\n",
    "    text = \" \".join(lemmatized)\n",
    "    return text"
   ]
  },
  {
   "cell_type": "code",
   "execution_count": 21,
   "metadata": {
    "collapsed": true
   },
   "outputs": [],
   "source": [
    "news['TITLE'] = news['TITLE'].apply(Lemmatizing)"
   ]
  },
  {
   "cell_type": "code",
   "execution_count": 22,
   "metadata": {},
   "outputs": [
    {
     "data": {
      "text/plain": [
       "ID\n",
       "1     fed official say weak data caused weather slow...\n",
       "2     fed charles plosser see high bar change pace t...\n",
       "3     u open stock fall fed official hint accelerate...\n",
       "4     fed risk falling behind curve charles plosser say\n",
       "5           fed plosser nasty weather curbed job growth\n",
       "6              plosser fed may accelerate tapering pace\n",
       "7                       fed plosser taper pace may slow\n",
       "8     fed plosser expects u unemployment fall 62 end...\n",
       "9     u job growth last month hit weatherfed preside...\n",
       "10    ecb unlikely end sterilisation smp purchase tr...\n",
       "Name: TITLE, dtype: object"
      ]
     },
     "execution_count": 22,
     "metadata": {},
     "output_type": "execute_result"
    }
   ],
   "source": [
    "news['TITLE'].head(10)"
   ]
  },
  {
   "cell_type": "markdown",
   "metadata": {},
   "source": [
    "Also we may assume that in some categories we will observe numbers more often than in others, for example in Buisness category. So we won't totally remove them but rather will recode all numbers in our titles in word 'number'."
   ]
  },
  {
   "cell_type": "markdown",
   "metadata": {},
   "source": [
    "#### Recoding numers"
   ]
  },
  {
   "cell_type": "code",
   "execution_count": 23,
   "metadata": {
    "collapsed": true
   },
   "outputs": [],
   "source": [
    "def recodeNumbers(text):\n",
    "    recoded = []\n",
    "    [recoded.append('number') if len((list(filter(str.isdigit, w)))) > 0 else recoded.append(w) \n",
    "     for w in nltk.word_tokenize(text)]\n",
    "    text = \" \".join(recoded)\n",
    "    return text    "
   ]
  },
  {
   "cell_type": "code",
   "execution_count": 24,
   "metadata": {
    "collapsed": true
   },
   "outputs": [],
   "source": [
    "news['TITLE'] = news['TITLE'].apply(recodeNumbers)"
   ]
  },
  {
   "cell_type": "code",
   "execution_count": 25,
   "metadata": {},
   "outputs": [
    {
     "data": {
      "text/plain": [
       "ID\n",
       "1     fed official say weak data caused weather slow...\n",
       "2     fed charles plosser see high bar change pace t...\n",
       "3     u open stock fall fed official hint accelerate...\n",
       "4     fed risk falling behind curve charles plosser say\n",
       "5           fed plosser nasty weather curbed job growth\n",
       "6              plosser fed may accelerate tapering pace\n",
       "7                       fed plosser taper pace may slow\n",
       "8     fed plosser expects u unemployment fall number...\n",
       "9     u job growth last month hit weatherfed preside...\n",
       "10    ecb unlikely end sterilisation smp purchase tr...\n",
       "Name: TITLE, dtype: object"
      ]
     },
     "execution_count": 25,
     "metadata": {},
     "output_type": "execute_result"
    }
   ],
   "source": [
    "news['TITLE'].head(10)"
   ]
  },
  {
   "cell_type": "markdown",
   "metadata": {},
   "source": [
    "Also we can check for length of our title, maybe we can use it for the prediction."
   ]
  },
  {
   "cell_type": "markdown",
   "metadata": {},
   "source": [
    "#### Length of title"
   ]
  },
  {
   "cell_type": "code",
   "execution_count": 105,
   "metadata": {
    "collapsed": true
   },
   "outputs": [],
   "source": [
    "news['word_count'] = news['TITLE'].str.split().str.len()\n",
    "plt.hist(news['word_count'], bins=15)\n",
    "plt.show()"
   ]
  },
  {
   "cell_type": "markdown",
   "metadata": {},
   "source": [
    "We see that we have some errors in our data, so we will remove few observations with to high amount of words in the title"
   ]
  },
  {
   "cell_type": "code",
   "execution_count": 118,
   "metadata": {},
   "outputs": [
    {
     "data": {
      "text/plain": [
       "1758"
      ]
     },
     "execution_count": 118,
     "metadata": {},
     "output_type": "execute_result"
    }
   ],
   "source": [
    "max(news['word_count'])"
   ]
  },
  {
   "cell_type": "code",
   "execution_count": 151,
   "metadata": {},
   "outputs": [
    {
     "data": {
      "text/plain": [
       "9"
      ]
     },
     "execution_count": 151,
     "metadata": {},
     "output_type": "execute_result"
    }
   ],
   "source": [
    "len(news[news['word_count']>20])"
   ]
  },
  {
   "cell_type": "code",
   "execution_count": 152,
   "metadata": {
    "collapsed": true
   },
   "outputs": [],
   "source": [
    "news = news[news['word_count']<20]\n",
    "plt.hist(news['word_count'], bins=15)\n",
    "plt.show()"
   ]
  },
  {
   "cell_type": "code",
   "execution_count": 165,
   "metadata": {},
   "outputs": [
    {
     "data": {
      "image/png": "[encoded data removed]",
      "text/plain": [
       "<matplotlib.figure.Figure at 0x297f3f6b390>"
      ]
     },
     "metadata": {},
     "output_type": "display_data"
    }
   ],
   "source": [
    "news.boxplot('word_count', by='CATEGORY')\n",
    "plt.show()"
   ]
  },
  {
   "cell_type": "markdown",
   "metadata": {},
   "source": [
    "There is not a lot of difference between number of words in each category, so we probably not gonna use that variable"
   ]
  },
  {
   "cell_type": "markdown",
   "metadata": {},
   "source": [
    "## Model fitting"
   ]
  },
  {
   "cell_type": "markdown",
   "metadata": {},
   "source": [
    "Depending on chosen problem you can try to use several models, fit them and choose the best.\n",
    "\n",
    "Here you need to demonstrate the knowledge of what parameters and how you should fit, how to choose features. In addition it would be fine if you come up with some heuristic or regularization that can make your model quality better.\n",
    "\n",
    "<b>Total:</b> <i>3 points (+ 1 extra point for heuristic or/and regularization)</i>"
   ]
  },
  {
   "cell_type": "code",
   "execution_count": 29,
   "metadata": {
    "collapsed": true
   },
   "outputs": [],
   "source": [
    "from sklearn.model_selection import train_test_split\n",
    "from sklearn.feature_extraction.text import CountVectorizer\n",
    "from sklearn.preprocessing import LabelEncoder"
   ]
  },
  {
   "cell_type": "code",
   "execution_count": 63,
   "metadata": {
    "collapsed": true
   },
   "outputs": [],
   "source": [
    "# Bag of Words Representation\n",
    "vectorizer = CountVectorizer()\n",
    "x = vectorizer.fit_transform(news['TITLE'])\n",
    "\n",
    "# Create numerical labels\n",
    "encoder = LabelEncoder()\n",
    "y = encoder.fit_transform(news['CATEGORY'])\n",
    "\n",
    "# Save labels\n",
    "encoder_mapping = dict(zip(encoder.transform(encoder.classes_), encoder.classes_))"
   ]
  },
  {
   "cell_type": "markdown",
   "metadata": {},
   "source": [
    "For better time perfomance we will not split our data with cross-validation and will use just 80% of intial data as train and 20% as test."
   ]
  },
  {
   "cell_type": "code",
   "execution_count": 64,
   "metadata": {
    "collapsed": true
   },
   "outputs": [],
   "source": [
    "x_train, x_test, y_train, y_test = train_test_split(x, y, test_size=0.2, random_state=42)"
   ]
  },
  {
   "cell_type": "markdown",
   "metadata": {},
   "source": [
    "#### Multinomial NBC"
   ]
  },
  {
   "cell_type": "code",
   "execution_count": 65,
   "metadata": {
    "collapsed": true
   },
   "outputs": [],
   "source": [
    "from sklearn.naive_bayes import MultinomialNB"
   ]
  },
  {
   "cell_type": "code",
   "execution_count": 66,
   "metadata": {
    "collapsed": true
   },
   "outputs": [],
   "source": [
    "mnb = MultinomialNB()"
   ]
  },
  {
   "cell_type": "code",
   "execution_count": 67,
   "metadata": {},
   "outputs": [
    {
     "name": "stdout",
     "output_type": "stream",
     "text": [
      "Wall time: 147 ms\n"
     ]
    },
    {
     "data": {
      "text/plain": [
       "MultinomialNB(alpha=1.0, class_prior=None, fit_prior=True)"
      ]
     },
     "execution_count": 67,
     "metadata": {},
     "output_type": "execute_result"
    }
   ],
   "source": [
    "%%time\n",
    "mnb.fit(x_train, y_train)"
   ]
  },
  {
   "cell_type": "code",
   "execution_count": 68,
   "metadata": {},
   "outputs": [
    {
     "name": "stdout",
     "output_type": "stream",
     "text": [
      "Train F1 score: 0.9327624340515244\n",
      "Test F1 score: 0.9233043353781706\n"
     ]
    }
   ],
   "source": [
    "print('Train F1 score:', f1_score(mnb.predict(x_train), y_train, average='weighted'))\n",
    "print('Test F1 score:', f1_score(mnb.predict(x_test), y_test, average='weighted'))"
   ]
  },
  {
   "cell_type": "markdown",
   "metadata": {},
   "source": [
    "We got pretty good score with Naive Bayesian Classifer, but what if with other methods we can get even better result?"
   ]
  },
  {
   "cell_type": "markdown",
   "metadata": {},
   "source": [
    "#### Logistic Regression"
   ]
  },
  {
   "cell_type": "code",
   "execution_count": 39,
   "metadata": {
    "collapsed": true
   },
   "outputs": [],
   "source": [
    "from sklearn.linear_model import LogisticRegression"
   ]
  },
  {
   "cell_type": "code",
   "execution_count": 40,
   "metadata": {
    "collapsed": true
   },
   "outputs": [],
   "source": [
    "lr = LogisticRegression()"
   ]
  },
  {
   "cell_type": "code",
   "execution_count": 41,
   "metadata": {},
   "outputs": [
    {
     "name": "stdout",
     "output_type": "stream",
     "text": [
      "Wall time: 25.6 s\n"
     ]
    },
    {
     "data": {
      "text/plain": [
       "LogisticRegression(C=1.0, class_weight=None, dual=False, fit_intercept=True,\n",
       "          intercept_scaling=1, max_iter=100, multi_class='ovr', n_jobs=1,\n",
       "          penalty='l2', random_state=None, solver='liblinear', tol=0.0001,\n",
       "          verbose=0, warm_start=False)"
      ]
     },
     "execution_count": 41,
     "metadata": {},
     "output_type": "execute_result"
    }
   ],
   "source": [
    "%%time\n",
    "lr.fit(x_train, y_train)"
   ]
  },
  {
   "cell_type": "code",
   "execution_count": 42,
   "metadata": {
    "scrolled": false
   },
   "outputs": [
    {
     "name": "stdout",
     "output_type": "stream",
     "text": [
      "Train F1 score: 0.9602882145664263\n",
      "Test F1 score: 0.9449449754698048\n"
     ]
    }
   ],
   "source": [
    "print('Train F1 score:', f1_score(lr.predict(x_train), y_train, average='weighted'))\n",
    "print('Test F1 score:', f1_score(lr.predict(x_test), y_test, average='weighted'))"
   ]
  },
  {
   "cell_type": "markdown",
   "metadata": {},
   "source": [
    "#### SVM"
   ]
  },
  {
   "cell_type": "code",
   "execution_count": 44,
   "metadata": {
    "collapsed": true
   },
   "outputs": [],
   "source": [
    "from sklearn.svm import LinearSVC"
   ]
  },
  {
   "cell_type": "code",
   "execution_count": 45,
   "metadata": {
    "collapsed": true
   },
   "outputs": [],
   "source": [
    "svc = LinearSVC()"
   ]
  },
  {
   "cell_type": "code",
   "execution_count": 46,
   "metadata": {},
   "outputs": [
    {
     "name": "stdout",
     "output_type": "stream",
     "text": [
      "Wall time: 51.8 s\n"
     ]
    },
    {
     "data": {
      "text/plain": [
       "LinearSVC(C=1.0, class_weight=None, dual=True, fit_intercept=True,\n",
       "     intercept_scaling=1, loss='squared_hinge', max_iter=1000,\n",
       "     multi_class='ovr', penalty='l2', random_state=None, tol=0.0001,\n",
       "     verbose=0)"
      ]
     },
     "execution_count": 46,
     "metadata": {},
     "output_type": "execute_result"
    }
   ],
   "source": [
    "%%time\n",
    "svc.fit(x_train, y_train)"
   ]
  },
  {
   "cell_type": "code",
   "execution_count": 47,
   "metadata": {},
   "outputs": [
    {
     "name": "stdout",
     "output_type": "stream",
     "text": [
      "Train F1 score: 0.9717465991399509\n",
      "Test F1 score: 0.9457754114341846\n"
     ]
    }
   ],
   "source": [
    "print('Train F1 score:', f1_score(svc.predict(x_train), y_train, average='weighted'))\n",
    "print('Test F1 score:', f1_score(svc.predict(x_test), y_test, average='weighted'))"
   ]
  },
  {
   "cell_type": "markdown",
   "metadata": {},
   "source": [
    "In general all three models clasify our categories pretty fine. Logistic Regression and SVM have slightly better results but evaluations take much more time comparing to Naive Bayesian Classifier. We can use here F1 score as well as accuracy, results of these two metrics will be pretty close to eqch other."
   ]
  },
  {
   "cell_type": "markdown",
   "metadata": {},
   "source": [
    "## Quality measuring and results"
   ]
  },
  {
   "cell_type": "markdown",
   "metadata": {},
   "source": [
    "Provide several relevant metrics of model quality. Make conlusion upon the model, overfitting etc.\n",
    "\n",
    "<b>Total:</b> <i>2 points</i>"
   ]
  },
  {
   "cell_type": "code",
   "execution_count": 99,
   "metadata": {},
   "outputs": [
    {
     "data": {
      "image/png": "[encoded data removed]",
      "text/plain": [
       "<matplotlib.figure.Figure at 0x297f216de10>"
      ]
     },
     "metadata": {},
     "output_type": "display_data"
    },
    {
     "data": {
      "image/png": "[encoded data removed]",
      "text/plain": [
       "<matplotlib.figure.Figure at 0x297effdbeb8>"
      ]
     },
     "metadata": {},
     "output_type": "display_data"
    }
   ],
   "source": [
    "def plot_confusion_matrix(cm, classes,\n",
    "                          normalize=False,\n",
    "                          title='Confusion matrix',\n",
    "                          cmap=plt.cm.Blues):\n",
    "\n",
    "    if normalize:\n",
    "        cm = cm.astype('float') / cm.sum(axis=1)[:, np.newaxis]\n",
    "\n",
    "    plt.imshow(cm, interpolation='nearest', cmap=cmap)\n",
    "    plt.title(title)\n",
    "    plt.colorbar()\n",
    "    tick_marks = np.arange(len(classes))\n",
    "    plt.xticks(tick_marks, classes, rotation=45)\n",
    "    plt.yticks(tick_marks, classes)\n",
    "\n",
    "    fmt = '.2f' if normalize else 'd'\n",
    "    thresh = cm.max() / 2.\n",
    "    for i, j in itertools.product(range(cm.shape[0]), range(cm.shape[1])):\n",
    "        plt.text(j, i, format(cm[i, j], fmt),\n",
    "                 horizontalalignment=\"center\",\n",
    "                 color=\"white\" if cm[i, j] > thresh else \"black\")\n",
    "\n",
    "    plt.ylabel('True label')\n",
    "    plt.xlabel('Predicted label')\n",
    "    plt.tight_layout()\n",
    "\n",
    "\n",
    "# Compute confusion matrix\n",
    "cnf_matrix = confusion_matrix(svc.predict(x_test), y_test)\n",
    "np.set_printoptions(precision=2)\n",
    "\n",
    "# Plot non-normalized confusion matrix\n",
    "plt.figure()\n",
    "plot_confusion_matrix(cnf_matrix, classes=list(encoder_mapping.values()),\n",
    "                      title='Confusion matrix, without normalization')\n",
    "\n",
    "# Plot normalized confusion matrix\n",
    "plt.figure()\n",
    "plot_confusion_matrix(cnf_matrix, classes=list(encoder_mapping.values()), normalize=True,\n",
    "                      title='Normalized confusion matrix')\n",
    "\n",
    "plt.show()"
   ]
  },
  {
   "cell_type": "markdown",
   "metadata": {},
   "source": [
    "We can see that some categories are harder to predict than others. Entertainment and Health have almost ideal scores with 98% and 96%. But for Science and Buisness it's less positive picture. It's seem logical, because news from buisness sphere sometimes can be about IT for example and it will be hard even for human to correctly predict the category."
   ]
  },
  {
   "cell_type": "markdown",
   "metadata": {},
   "source": [
    "## Visualization"
   ]
  },
  {
   "cell_type": "markdown",
   "metadata": {},
   "source": [
    "It's really good data scientist's character - to be able to provide fine visualization. So that you need to visualize different steps of your research: interesting moments from data distributon, quality metrics, feature importances etc. Please, try to make nice figures - for the sake of that you can look through tutorials on Matplotlib, Seaborn, Plotly etc.\n",
    "\n",
    "<b>Total:</b> <i>3 points</i>"
   ]
  },
  {
   "cell_type": "markdown",
   "metadata": {},
   "source": [
    "## HINT\n",
    "\n",
    "For well known datasets (especially on Kaggle) guys usually share kernels - Jupyter Notebooks with ideas of solution. I don't advise you to take some interesting solution and say that it's yours - I'm just telling you that sometimes it could be helpful to study others' thoughts in order to get idea for new heuristic :)"
   ]
  }
 ],
 "metadata": {
  "kernelspec": {
   "display_name": "Python 3",
   "language": "python",
   "name": "python3"
  },
  "language_info": {
   "codemirror_mode": {
    "name": "ipython",
    "version": 3
   },
   "file_extension": ".py",
   "mimetype": "text/x-python",
   "name": "python",
   "nbconvert_exporter": "python",
   "pygments_lexer": "ipython3",
   "version": "3.6.1"
  }
 },
 "nbformat": 4,
 "nbformat_minor": 2
}
