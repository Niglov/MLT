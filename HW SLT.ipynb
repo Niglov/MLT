{
 "cells": [
  {
   "cell_type": "markdown",
   "metadata": {},
   "source": [
    "# Homework on Statistical Learning Theory"
   ]
  },
  {
   "cell_type": "markdown",
   "metadata": {},
   "source": [
    "<b>Deadline:</b> 24.12.2018, 9 a.m. (there would be no soft deadline)\n",
    "\n",
    "<b>How to hang in?</b> You need to put your Jupyter Notebook to GitHub repo and send link in Telegram to <b>@CroCode</b>"
   ]
  },
  {
   "cell_type": "code",
   "execution_count": 13,
   "metadata": {
    "collapsed": true
   },
   "outputs": [],
   "source": [
    "# Artem Volgin"
   ]
  },
  {
   "cell_type": "markdown",
   "metadata": {},
   "source": [
    "### Block №1. Combinatorics and Probability Theory\n",
    "\n",
    "You can use LaTeX expressions in order to provide formulas: https://en.wikibooks.org/wiki/LaTeX"
   ]
  },
  {
   "cell_type": "markdown",
   "metadata": {},
   "source": [
    "1) In how many ways can the letters of the word PROBABILITY be rearranged such that all I’s and P’s appear in the middle?\n",
    "\n",
    "<b>Total:</b> 1 point"
   ]
  },
  {
   "cell_type": "markdown",
   "metadata": {},
   "source": [
    "Because there are two 'I' in our word, we need to consider 3 outcomes there 'I' or 'P' appear in the middle. We have 11 letters in word PROBABILITY, so then we fixed one letter in in the middle we left with 10 letters. In case of 'fixed' P we need to account of repeating 'I', also we need to handle repeating 'B's. Considering all these condintions number of combinations will be equal to:"
   ]
  },
  {
   "cell_type": "markdown",
   "metadata": {},
   "source": [
    "$$\\frac{10!}{2!2!} + 2\\times\\frac{10!}{2!} = 7257600$$"
   ]
  },
  {
   "cell_type": "code",
   "execution_count": 7,
   "metadata": {},
   "outputs": [
    {
     "data": {
      "text/plain": [
       "7257600"
      ]
     },
     "execution_count": 7,
     "metadata": {},
     "output_type": "execute_result"
    }
   ],
   "source": [
    "from math import factorial as fact\n",
    "\n",
    "int(fact(10)/fact(2)*fact(2) + 2*(fact(10)/fact(2)))"
   ]
  },
  {
   "cell_type": "markdown",
   "metadata": {},
   "source": [
    "2) The probability of having defect (at least 1 defective product) in batch of 100 products is 63.2%. Find the probability of having less than 3 defective products in such a batch.\n",
    "\n",
    "<i>Hint:</i> use idea of Poisson distribution (https://en.wikipedia.org/wiki/Poisson_distribution)\n",
    "\n",
    "<b>Total:</b> 1.5 points"
   ]
  },
  {
   "cell_type": "markdown",
   "metadata": {},
   "source": [
    "At first we need to find parameter $\\lambda$ of Poisson distribution for our case. <br> \n",
    "We know that $P(X\\geq1) = 0.632$, so $P(X=0) = 1 - P(X\\geq1) = 0.368$. <br> \n",
    "According to the formula of Poisson distribution $P(X=0) = e^{-\\lambda}*\\frac{\\lambda^0}{0!} = e^{-\\lambda}$ <br>\n",
    "$\\frac{1}{e^\\lambda} = 0.368$ <br> \n",
    "$e^\\lambda = 2.717$ <br> \n",
    "$\\lambda\\approx 1$"
   ]
  },
  {
   "cell_type": "markdown",
   "metadata": {
    "collapsed": true
   },
   "source": [
    "$P(X<3) = P(X=0) + P(X=1) + P(X=2)$"
   ]
  },
  {
   "cell_type": "markdown",
   "metadata": {},
   "source": [
    "If we use Poisson distribution formula for $P(X=1)$ and $P(X=2) we will get:"
   ]
  },
  {
   "cell_type": "markdown",
   "metadata": {},
   "source": [
    "$P(X<3) = 0.368 + 0.367 + 0.1835 = 0.9185$"
   ]
  },
  {
   "cell_type": "markdown",
   "metadata": {},
   "source": [
    "### Block №2. Data Structures and Algorithms\n",
    "\n",
    "<b><i>NB!</i></b> Here you need to provide solution having minimal memory and runtime complexity in terms of Big O notation."
   ]
  },
  {
   "cell_type": "markdown",
   "metadata": {},
   "source": [
    "3) Suggest an algorithm that resets all elements in the column <i>i</i> and the row <i>j</i> of the matrix M to zeros if the element in the <i>(i, j)</i> cell is zero. Provide solution having minimal memory and runtime complexity in terms of Big O notation.\n",
    "\n",
    "<b>Input:</b> matrix M\n",
    "\n",
    "<b>Output:</b> modified according to condition matrix M\n",
    "\n",
    "<b>Total:</b> 2 points"
   ]
  },
  {
   "cell_type": "code",
   "execution_count": 62,
   "metadata": {},
   "outputs": [
    {
     "name": "stdout",
     "output_type": "stream",
     "text": [
      "Initial Matrix\n",
      "[[1 1 1 1]\n",
      " [1 1 1 1]\n",
      " [0 0 1 0]]\n",
      "\n",
      "Transformed Matrix\n",
      "[[0 0 1 0]\n",
      " [0 0 1 0]\n",
      " [0 0 0 0]]\n"
     ]
    }
   ],
   "source": [
    "import numpy as np\n",
    "  \n",
    "def changeToZero(mat):\n",
    "    rowL = len(mat)\n",
    "    colL = len(mat[0])\n",
    "    \n",
    "    # By default all values of row and col are equal to 1  \n",
    "    row = [1] * rowL  \n",
    "    col = [1] * colL \n",
    "        \n",
    "  \n",
    "    # Storing the rows and columns to be marked as 0 in created arrays \n",
    "    for i in range(0, rowL) :         \n",
    "        for j in range(0, colL) : \n",
    "            if (mat[i][j] == 0) : \n",
    "                row[i] = 0\n",
    "                col[j] = 0\n",
    "              \n",
    "    # Transforming intial matrix with row and col  \n",
    "    for i in range(0, rowL) :        \n",
    "        for j in range(0, colL): \n",
    "            if ( row[i] == 0 or col[j] == 0 ) : \n",
    "                mat[i][j] = 0\n",
    "                  \n",
    "\n",
    "mat = [ [1, 1, 1, 1], \n",
    "        [1, 1, 1, 1], \n",
    "        [0, 0, 1, 0] ]  \n",
    "  \n",
    "print(\"Initial Matrix\") \n",
    "print(np.matrix(mat))\n",
    "  \n",
    "changeToZero(mat)\n",
    "\n",
    "print() \n",
    "print(\"Transformed Matrix\") \n",
    "print(np.matrix(mat))\n",
    "\n",
    "\n",
    "# Memory complexity: O(M + N)\n",
    "# Runtime complexity: O(M*N)"
   ]
  },
  {
   "cell_type": "markdown",
   "metadata": {},
   "source": [
    "4) Imagine you have a square picture, each pixel of which can be black or white (you can interpret it as binary matrix). Develop an algorithm for finding the maximum sub-square consisting of only black pixels.\n",
    "\n",
    "<b>Input:</b> binary matrix M (contains only 0-1 elements)\n",
    "\n",
    "<b>Output:</b> <i>((a1, b1),(a2, b2))</i> where <i>(a1, b1)</i> and <i>(a2, b2)</i> stay for coordinates of upper-left and lower-right sub-square corners respectively\n",
    "\n",
    "<b>Total:</b> 2.5 points"
   ]
  },
  {
   "cell_type": "code",
   "execution_count": 44,
   "metadata": {
    "collapsed": true
   },
   "outputs": [],
   "source": [
    "# put your code with comments here\n",
    "\n",
    "# Memory complexity: ...\n",
    "# Runtime complexity: ..."
   ]
  },
  {
   "cell_type": "markdown",
   "metadata": {},
   "source": [
    "5) Imagine series of integer numbers having only 3, 5 or 7 of some power in their factorization (i.e. 1, 3, 5, 7, 9, 15 etc.). Given k you're asked to return k-th number in this series.\n",
    "\n",
    "<i>Helpful link</i>: https://en.wikipedia.org/wiki/Fundamental_theorem_of_arithmetic\n",
    "\n",
    "<b>Input:</b> integer number k\n",
    "\n",
    "<b>Output:</b> k-th number of series\n",
    "\n",
    "<b>Total:</b> 3 points"
   ]
  },
  {
   "cell_type": "code",
   "execution_count": 61,
   "metadata": {},
   "outputs": [
    {
     "data": {
      "text/plain": [
       "525"
      ]
     },
     "execution_count": 61,
     "metadata": {},
     "output_type": "execute_result"
    }
   ],
   "source": [
    "\n",
    "# Finding largest divisible power\n",
    "def largestDivision(a, b): \n",
    "    while a % b == 0: \n",
    "        a /= b \n",
    "    return a  \n",
    "  \n",
    "# Checking if a number has 3, 5 or 7 of some power in their factorization\n",
    "def isFactor(n): \n",
    "    n = largestDivision(n, 3) \n",
    "    n = largestDivision(n, 5) \n",
    "    n = largestDivision(n, 7)\n",
    "    if n == 1:\n",
    "        a = 1\n",
    "    else:\n",
    "        a = 0\n",
    "    return a\n",
    "  \n",
    "# Getting the kth element in the series \n",
    "def kthNumber(k): \n",
    "    i = 1\n",
    "    count = 1\n",
    "    \n",
    "    # Checking for all integers and adding to k number of found numbers that satisfied our coundintion until it reach count\n",
    "    # In i we will have number which we looking for\n",
    "    while k > count: \n",
    "        i += 1\n",
    "        if isFactor(i): \n",
    "            count += 1\n",
    "    return i \n",
    "  \n",
    "\n",
    "kthNumber(30) \n",
    "\n",
    "# Memory complexity: O(1)\n",
    "# Runtime complexity: O(N*N)"
   ]
  },
  {
   "cell_type": "code",
   "execution_count": null,
   "metadata": {
    "collapsed": true
   },
   "outputs": [],
   "source": []
  }
 ],
 "metadata": {
  "kernelspec": {
   "display_name": "Python 3",
   "language": "python",
   "name": "python3"
  },
  "language_info": {
   "codemirror_mode": {
    "name": "ipython",
    "version": 3
   },
   "file_extension": ".py",
   "mimetype": "text/x-python",
   "name": "python",
   "nbconvert_exporter": "python",
   "pygments_lexer": "ipython3",
   "version": "3.6.1"
  }
 },
 "nbformat": 4,
 "nbformat_minor": 2
}
